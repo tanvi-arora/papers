{
 "cells": [
  {
   "cell_type": "markdown",
   "metadata": {},
   "source": [
    "## Homework 6\n",
    "\n",
    "**Submitted by : Tanvi Arora**   \n",
    "**Section     : DS 7337 Natural Language Processing - 401**"
   ]
  },
  {
   "cell_type": "markdown",
   "metadata": {},
   "source": [
    "<a id=\"top\"></a>\n",
    "### Contents\n",
    "\n",
    "* <a href=\"#functions\">Function Definitions</a>\n",
    "* <a href=\"#titlesimilarity\">1 - Book Title Similarity</a>\n",
    "* <a href=\"#booksearch\">1.a - Book Search on Amazon</a>\n",
    "* <a href=\"#pairwisecosinesimilarity\">1.b - Pairwise Cosine Similarity</a>\n",
    "* <a href=\"#similartitles\">1.c - Get titles that are similar to each other</a>\n",
    "* <a href=\"#dissimilartitles\">1.c - Get titles that are dissimilar to each other</a>\n",
    "* <a href=\"#googlesearch\">2 - Book Search on Google</a>\n",
    "* <a href=\"#googlesearchresults\">2.a Search text book on Google</a>\n",
    "* <a href=\"#textsimilarity\">2.b Resulted Text similarity with search string</a>\n",
    "* <a href=\"#textsimilarityanalysis\">2.c Analysis on Resulted Text similarity with search string</a>"
   ]
  },
  {
   "cell_type": "code",
   "execution_count": 1,
   "metadata": {},
   "outputs": [
    {
     "name": "stdout",
     "output_type": "stream",
     "text": [
      "Darwin-18.6.0-x86_64-i386-64bit\n",
      "environment base\n",
      "Python 3.7.3 (default, Mar 27 2019, 16:54:48) \n",
      "[Clang 4.0.1 (tags/RELEASE_401/final)]\n"
     ]
    }
   ],
   "source": [
    "import platform\n",
    "print(platform.platform())\n",
    "\n",
    "import os\n",
    "print (\"environment\",os.environ['CONDA_DEFAULT_ENV'])\n",
    "\n",
    "import sys\n",
    "print(\"Python\",sys.version)\n",
    "\n",
    "## for visualizations\n",
    "import matplotlib.pyplot as plt\n",
    "\n",
    "import pandas as pd\n",
    "pd.set_option('display.max_rows',10)\n",
    "import re\n",
    "\n",
    "import numpy as np\n",
    "\n",
    "## ignore/suppress warnings\n",
    "import warnings\n",
    "warnings.simplefilter('ignore', DeprecationWarning)\n",
    "warnings.simplefilter('ignore', FutureWarning)\n",
    "\n"
   ]
  },
  {
   "cell_type": "markdown",
   "metadata": {},
   "source": [
    "<a id=\"functions\"></a>\n",
    "<a href=\"#top\">Back to Top</a>\n",
    "\n",
    "### Function Definitions"
   ]
  },
  {
   "cell_type": "code",
   "execution_count": 2,
   "metadata": {},
   "outputs": [],
   "source": [
    "from collections import Counter\n",
    "from sklearn.feature_extraction.text import CountVectorizer\n",
    "from sklearn.metrics.pairwise import cosine_similarity\n",
    "    \n",
    "\n",
    "## This function returns pairwise cosine similarity matrix of the list\n",
    "def get_cosine_sim(b_list): \n",
    "    vectors = get_vectors(b_list)\n",
    "    return cosine_similarity(vectors)\n",
    "\n",
    "\n",
    "## This function applies CountVectorizer to the list and returns a vector matrix    \n",
    "def get_vectors(b_list):\n",
    "    vectorizer = CountVectorizer()\n",
    "    vect = vectorizer.fit_transform(b_list)\n",
    "    return vect.toarray()\n",
    "\n",
    "## get maximum and minimum similarities of each book with comparison to other books\n",
    "## from the pairwise cosine similarity .Function can be used for any list of similarity matrix\n",
    "def get_max_min(booklist_sim):\n",
    "    bk_max=[0 for x in range(len(booklist_sim))]\n",
    "    bk_min=[0 for x in range(len(booklist_sim))]\n",
    "    bk_mask=np.ma.array(booklist_sim, mask = False)\n",
    "    for i in range(len(bk_mask)):\n",
    "        bk_mask[i].mask[i] = True\n",
    "        bk_max[i]=max(bk_mask[i].compressed())\n",
    "        bk_min[i]=min(bk_mask[i].compressed())\n",
    "    return bk_max,bk_min\n",
    "\n",
    "## This function returns the book with maximum similarity for all books\n",
    "## pairwise similarity of a book with itself,i.e. diagonal in the matrix \n",
    "## is ignored\n",
    "def get_max_similar_books(max_mt, booklist_sim, books):\n",
    "    bk_mask_max=np.ma.array(max_mt, mask = False)\n",
    "    max_sim=max(bk_mask_max)\n",
    "    for i in range(len(books)):\n",
    "    \n",
    "        if (bk_mask_max[i]==max_sim):\n",
    "            print(\"Title of Book : \",books[i], \"  is very much similar to Title of the book : \")\n",
    "            for j in range(len(booklist_sim)):\n",
    "                if (i != j):\n",
    "                    if (booklist_sim[i][j] == max_sim):\n",
    "                        print(books[j])\n",
    "                        print(\"The ranks of the book are \",i, \" and \" ,j)\n",
    "                        bk_mask_max.mask[j] = True\n",
    "            print(\"---------------------------------\")\n",
    "                    \n",
    "\n",
    "## This function returns the books with minimum similarity for all books\n",
    "def get_min_similar_books(min_mt, booklist_sim, books):\n",
    "    min_sim=min(min_mt)\n",
    "    for i in range(len(books)):\n",
    "        bk_mask_min=np.ma.array(min_mt, mask = False)\n",
    "        if (bk_mask_min[i]==min_sim):\n",
    "            print(\"Title of Book : \",books[i], \"with rank as \",i,\" is very much dissimilar to below list of books : \")\n",
    "            print(\"\")\n",
    "            for j in range(len(booklist_sim)):\n",
    "                if (booklist_sim[i][j] == min_sim):\n",
    "                    print(books[j])\n",
    "                    print(\"Rank of this book is \",j)\n",
    "                    bk_mask_min.mask[j] = True\n",
    "            print(\"---------------------------------\")    \n",
    "            \n",
    "\n",
    "# This function returns book with maximum similarity of a particular book in the list\n",
    "def get_max_similar_books_id(max_sim, booklist_sim, books,index):\n",
    "    i=index\n",
    "    print(\"Title of Book : \",books[i], \"  is very much similar to Title of the book : \")\n",
    "    for j in range(len(booklist_sim)):\n",
    "        if (i != j):\n",
    "            if (booklist_sim[j] == max_sim):\n",
    "                print(books[j])\n",
    "                print(\"The ranks of the book are \",i, \" and \" ,j)\n",
    "    print(\"---------------------------------\")\n",
    "                    \n",
    "# This function returns book with minimum similarity of a particular book in the list\n",
    "def get_min_similar_books_id(min_sim, booklist_sim, books,index):\n",
    "    i=index\n",
    "    print(\"Title of Book : \",books[i], \"with rank as \",i,\" is very much dissimilar to below list of books : \")\n",
    "    print(\"\")\n",
    "    for j in range(len(booklist_sim)):\n",
    "        if (booklist_sim[j] == min_sim):\n",
    "            print(books[j])\n",
    "            print(\"Rank of this book is \",j)\n",
    "    print(\"---------------------------------\") "
   ]
  },
  {
   "cell_type": "markdown",
   "metadata": {},
   "source": [
    "<a id=\"titlesimilarity\"></a>\n",
    "<a href=\"#top\">Back to Top</a>\n",
    "\n",
    "### Book Title Similarity"
   ]
  },
  {
   "cell_type": "markdown",
   "metadata": {},
   "source": [
    "<a id=\"booksearch\"></a>\n",
    "<a href=\"#top\">Back to Top</a>\n",
    "\n",
    "#### Search for a book on Amazon"
   ]
  },
  {
   "cell_type": "markdown",
   "metadata": {},
   "source": [
    "Amazon search : https://www.amazon.com/s?k=Autobiography+of+M+K+Gandhi&ref=nb_sb_noss  \n",
    "book searched : Autobiography of M K Gandhi\n"
   ]
  },
  {
   "cell_type": "code",
   "execution_count": 3,
   "metadata": {},
   "outputs": [],
   "source": [
    "booklist=[\"An Autobiography or The Story of My Experiments with Truth Kindle Edition\",\n",
    "          \"An Autobiography: Or, The Story of My Experiments with Truth Kindle Edition\",\n",
    "          \"An Autobiography or The Story of My Experiments with Truth Kindle Edition\",\n",
    "         \"The Essential Gandhi: An Anthology of His Writings on His Life, Work, and Ideas Paperback – November 12, 2002\",\n",
    "         \"SUMMARY OF An Autobiography | M.K. Gandhi | Kindle Ebooks| Highlights and Key Concepts | Save Money and Time Reading Summaries Kindle Edition\",\n",
    "         \"An Autobiography: The Story of My Experiments with Truth 2nd Edition\",\n",
    "         \"An Autobiography: The Story of my Experiments with Truth Paperback – September 14, 2017\",\n",
    "         \"The Story Of My Experiments With Truth: An Autobiography of Mahatma Gandhi Kindle Edition\",\n",
    "         \"An Autobiography or The Story of My Experiments with Truth: A Critical Edition Hardcover – March 20, 2018\",\n",
    "         \"M.K. Gandhi an Autobiography:The Story of My Experiments with Truth Hardcover – April 4, 2018\",\n",
    "         \"Non-Violent Resistance (Satyagraha) Paperback – May 29, 2001\",\n",
    "         \"M. K. Gandhi An Autobiography or the Story of My Experiments with Truth Paperback – 1997\",\n",
    "         \"An Autobiography: 150th Anniversary Edition Paperback – September 12, 2019\",\n",
    "         \"The Autobiography of M.K.Gandhi (Chinese Edition) (Chinese) Hardcover – October 1, 2015\",\n",
    "         \"My Experiments with Truth: An Autobiography Kindle Edition\",\n",
    "         \"Satya Ke Sath Mere Prayog [My Experiment with Truth]: Meri Atmakatha [My Autobiography]   Audible Audiobook – Unabridged\",\n",
    "         \"Mahatma Gandhi: A Life From Beginning to End Kindle Edition\",\n",
    "         \"(An Autobiography or the story of my experiments with truth) Satya ke Prayog Athava Atmakatha (Hindi Edition) (Hindi) Paperback – January 1, 2012\",\n",
    "         \"M.K. Gandhi, Attorney at Law: The Man before the Mahatma First Edition\",\n",
    "         \"Autobiography: The Story of My Experiments with Truth by Mohandas Karamchand (Mahatma) Gandhi (2008-10-01) Hardcover – 1796\",\n",
    "         \"The Story of My Experiments with Truth: Autobiography of M K Gandhi\",\n",
    "         \"An Autobiography Paperback – Import, 1992\",\n",
    "         \"M.K. GANDHI, AN AUTOBIOGRAPHY, FOLIO SOCIETY COLLECTOR'S EDITION Hardcover – 2010\",\n",
    "         \"M.k. Gandhi : An Autobiography Paperback – 2015\",\n",
    "         \"Satyana Prayogo Athva Atmakatha (Gujarati Edition) Kindle Edition\"]"
   ]
  },
  {
   "cell_type": "code",
   "execution_count": 4,
   "metadata": {},
   "outputs": [
    {
     "data": {
      "text/plain": [
       "25"
      ]
     },
     "execution_count": 4,
     "metadata": {},
     "output_type": "execute_result"
    }
   ],
   "source": [
    "len(booklist)"
   ]
  },
  {
   "cell_type": "markdown",
   "metadata": {},
   "source": [
    "A list of top 25 books from the Amazon search has been created"
   ]
  },
  {
   "cell_type": "markdown",
   "metadata": {},
   "source": [
    "<a id=\"pairwisecosinesimilarity\"></a>\n",
    "<a href=\"#top\">Back to Top</a>\n",
    "\n",
    "#### Get pairwise cosine similarity for all books"
   ]
  },
  {
   "cell_type": "code",
   "execution_count": 5,
   "metadata": {},
   "outputs": [],
   "source": [
    "booklist_cos_sim=get_cosine_sim(booklist)"
   ]
  },
  {
   "cell_type": "code",
   "execution_count": 6,
   "metadata": {},
   "outputs": [
    {
     "name": "stdout",
     "output_type": "stream",
     "text": [
      "type : <class 'numpy.ndarray'>\n",
      "shape : (25, 25)\n"
     ]
    }
   ],
   "source": [
    "print(\"type :\", type(booklist_cos_sim))\n",
    "print(\"shape :\", booklist_cos_sim.shape)"
   ]
  },
  {
   "cell_type": "markdown",
   "metadata": {},
   "source": [
    "**We have 25 books and the cosine similarity function has created a 2D array( matrix) of 25X25**  \n",
    "Next we will fetch maximum and minimum similarity value of each book . For maximum similarity, similarity value of the book with itself is ignored as it will always be max value i.e. 1.0"
   ]
  },
  {
   "cell_type": "code",
   "execution_count": 7,
   "metadata": {},
   "outputs": [],
   "source": [
    "bk_cos_max,bk_cos_min=get_max_min(booklist_cos_sim)"
   ]
  },
  {
   "cell_type": "markdown",
   "metadata": {},
   "source": [
    "<a id=\"similartitles\"></a>\n",
    "<a href=\"#top\">Back to Top</a>\n",
    "\n",
    "#### Get titles that are most similar to each other"
   ]
  },
  {
   "cell_type": "code",
   "execution_count": 8,
   "metadata": {},
   "outputs": [
    {
     "data": {
      "text/plain": [
       "1.0000000000000002"
      ]
     },
     "execution_count": 8,
     "metadata": {},
     "output_type": "execute_result"
    }
   ],
   "source": [
    "max(bk_cos_max)"
   ]
  },
  {
   "cell_type": "code",
   "execution_count": 9,
   "metadata": {},
   "outputs": [
    {
     "name": "stdout",
     "output_type": "stream",
     "text": [
      "Title of Book :  An Autobiography or The Story of My Experiments with Truth Kindle Edition   is very much similar to Title of the book : \n",
      "An Autobiography: Or, The Story of My Experiments with Truth Kindle Edition\n",
      "The ranks of the book are  0  and  1\n",
      "An Autobiography or The Story of My Experiments with Truth Kindle Edition\n",
      "The ranks of the book are  0  and  2\n",
      "---------------------------------\n"
     ]
    }
   ],
   "source": [
    "get_max_similar_books(bk_cos_max,booklist_cos_sim,booklist)"
   ]
  },
  {
   "cell_type": "markdown",
   "metadata": {},
   "source": [
    "We have a book title matching another book title with a cosine similarity of 1.0 , since we have ignored similarity values of a book with itself this has to be another book. But when we ran the function to get the book title names, it was exactly the same book.Top 3 books , rank 0,1,2  looks to be the same books.  \n",
    "Below is the screenshot of the actual books listed by Amazon.  \n",
    "1. The titles match but the covers do not and one of them has a joint author too.  \n",
    "2. Also the first book has additional special characters - \":\" ( colon) and \",\" ( comma ) , and capitalized \"O\" in \"Or\" but the cosine similarity algorithm has matched the books equally.\n",
    "\n",
    "![top3](top3_Gandhi_Autobigraphy_books.png)"
   ]
  },
  {
   "cell_type": "markdown",
   "metadata": {},
   "source": [
    "<a id=\"dissimilartitles\"></a>\n",
    "<a href=\"#top\">Back to Top</a>\n",
    "#### Get titles that are most dissimilar"
   ]
  },
  {
   "cell_type": "code",
   "execution_count": 10,
   "metadata": {},
   "outputs": [
    {
     "data": {
      "text/plain": [
       "0.0"
      ]
     },
     "execution_count": 10,
     "metadata": {},
     "output_type": "execute_result"
    }
   ],
   "source": [
    "min(bk_cos_min)"
   ]
  },
  {
   "cell_type": "code",
   "execution_count": 11,
   "metadata": {},
   "outputs": [
    {
     "name": "stdout",
     "output_type": "stream",
     "text": [
      "Title of Book :  An Autobiography or The Story of My Experiments with Truth Kindle Edition with rank as  0  is very much dissimilar to below list of books : \n",
      "\n",
      "Non-Violent Resistance (Satyagraha) Paperback – May 29, 2001\n",
      "Rank of this book is  10\n",
      "---------------------------------\n",
      "Title of Book :  An Autobiography: Or, The Story of My Experiments with Truth Kindle Edition with rank as  1  is very much dissimilar to below list of books : \n",
      "\n",
      "Non-Violent Resistance (Satyagraha) Paperback – May 29, 2001\n",
      "Rank of this book is  10\n",
      "---------------------------------\n",
      "Title of Book :  An Autobiography or The Story of My Experiments with Truth Kindle Edition with rank as  2  is very much dissimilar to below list of books : \n",
      "\n",
      "Non-Violent Resistance (Satyagraha) Paperback – May 29, 2001\n",
      "Rank of this book is  10\n",
      "---------------------------------\n",
      "Title of Book :  The Essential Gandhi: An Anthology of His Writings on His Life, Work, and Ideas Paperback – November 12, 2002 with rank as  3  is very much dissimilar to below list of books : \n",
      "\n",
      "Satya Ke Sath Mere Prayog [My Experiment with Truth]: Meri Atmakatha [My Autobiography]   Audible Audiobook – Unabridged\n",
      "Rank of this book is  15\n",
      "Satyana Prayogo Athva Atmakatha (Gujarati Edition) Kindle Edition\n",
      "Rank of this book is  24\n",
      "---------------------------------\n",
      "Title of Book :  SUMMARY OF An Autobiography | M.K. Gandhi | Kindle Ebooks| Highlights and Key Concepts | Save Money and Time Reading Summaries Kindle Edition with rank as  4  is very much dissimilar to below list of books : \n",
      "\n",
      "Non-Violent Resistance (Satyagraha) Paperback – May 29, 2001\n",
      "Rank of this book is  10\n",
      "---------------------------------\n",
      "Title of Book :  An Autobiography: The Story of My Experiments with Truth 2nd Edition with rank as  5  is very much dissimilar to below list of books : \n",
      "\n",
      "Non-Violent Resistance (Satyagraha) Paperback – May 29, 2001\n",
      "Rank of this book is  10\n",
      "---------------------------------\n",
      "Title of Book :  An Autobiography: The Story of my Experiments with Truth Paperback – September 14, 2017 with rank as  6  is very much dissimilar to below list of books : \n",
      "\n",
      "Mahatma Gandhi: A Life From Beginning to End Kindle Edition\n",
      "Rank of this book is  16\n",
      "Satyana Prayogo Athva Atmakatha (Gujarati Edition) Kindle Edition\n",
      "Rank of this book is  24\n",
      "---------------------------------\n",
      "Title of Book :  The Story Of My Experiments With Truth: An Autobiography of Mahatma Gandhi Kindle Edition with rank as  7  is very much dissimilar to below list of books : \n",
      "\n",
      "Non-Violent Resistance (Satyagraha) Paperback – May 29, 2001\n",
      "Rank of this book is  10\n",
      "---------------------------------\n",
      "Title of Book :  An Autobiography or The Story of My Experiments with Truth: A Critical Edition Hardcover – March 20, 2018 with rank as  8  is very much dissimilar to below list of books : \n",
      "\n",
      "Non-Violent Resistance (Satyagraha) Paperback – May 29, 2001\n",
      "Rank of this book is  10\n",
      "---------------------------------\n",
      "Title of Book :  M.K. Gandhi an Autobiography:The Story of My Experiments with Truth Hardcover – April 4, 2018 with rank as  9  is very much dissimilar to below list of books : \n",
      "\n",
      "Non-Violent Resistance (Satyagraha) Paperback – May 29, 2001\n",
      "Rank of this book is  10\n",
      "Satyana Prayogo Athva Atmakatha (Gujarati Edition) Kindle Edition\n",
      "Rank of this book is  24\n",
      "---------------------------------\n",
      "Title of Book :  Non-Violent Resistance (Satyagraha) Paperback – May 29, 2001 with rank as  10  is very much dissimilar to below list of books : \n",
      "\n",
      "An Autobiography or The Story of My Experiments with Truth Kindle Edition\n",
      "Rank of this book is  0\n",
      "An Autobiography: Or, The Story of My Experiments with Truth Kindle Edition\n",
      "Rank of this book is  1\n",
      "An Autobiography or The Story of My Experiments with Truth Kindle Edition\n",
      "Rank of this book is  2\n",
      "SUMMARY OF An Autobiography | M.K. Gandhi | Kindle Ebooks| Highlights and Key Concepts | Save Money and Time Reading Summaries Kindle Edition\n",
      "Rank of this book is  4\n",
      "An Autobiography: The Story of My Experiments with Truth 2nd Edition\n",
      "Rank of this book is  5\n",
      "The Story Of My Experiments With Truth: An Autobiography of Mahatma Gandhi Kindle Edition\n",
      "Rank of this book is  7\n",
      "An Autobiography or The Story of My Experiments with Truth: A Critical Edition Hardcover – March 20, 2018\n",
      "Rank of this book is  8\n",
      "M.K. Gandhi an Autobiography:The Story of My Experiments with Truth Hardcover – April 4, 2018\n",
      "Rank of this book is  9\n",
      "The Autobiography of M.K.Gandhi (Chinese Edition) (Chinese) Hardcover – October 1, 2015\n",
      "Rank of this book is  13\n",
      "My Experiments with Truth: An Autobiography Kindle Edition\n",
      "Rank of this book is  14\n",
      "Satya Ke Sath Mere Prayog [My Experiment with Truth]: Meri Atmakatha [My Autobiography]   Audible Audiobook – Unabridged\n",
      "Rank of this book is  15\n",
      "Mahatma Gandhi: A Life From Beginning to End Kindle Edition\n",
      "Rank of this book is  16\n",
      "M.K. Gandhi, Attorney at Law: The Man before the Mahatma First Edition\n",
      "Rank of this book is  18\n",
      "Autobiography: The Story of My Experiments with Truth by Mohandas Karamchand (Mahatma) Gandhi (2008-10-01) Hardcover – 1796\n",
      "Rank of this book is  19\n",
      "The Story of My Experiments with Truth: Autobiography of M K Gandhi\n",
      "Rank of this book is  20\n",
      "M.K. GANDHI, AN AUTOBIOGRAPHY, FOLIO SOCIETY COLLECTOR'S EDITION Hardcover – 2010\n",
      "Rank of this book is  22\n",
      "Satyana Prayogo Athva Atmakatha (Gujarati Edition) Kindle Edition\n",
      "Rank of this book is  24\n",
      "---------------------------------\n",
      "Title of Book :  M. K. Gandhi An Autobiography or the Story of My Experiments with Truth Paperback – 1997 with rank as  11  is very much dissimilar to below list of books : \n",
      "\n",
      "Satyana Prayogo Athva Atmakatha (Gujarati Edition) Kindle Edition\n",
      "Rank of this book is  24\n",
      "---------------------------------\n",
      "Title of Book :  The Autobiography of M.K.Gandhi (Chinese Edition) (Chinese) Hardcover – October 1, 2015 with rank as  13  is very much dissimilar to below list of books : \n",
      "\n",
      "Non-Violent Resistance (Satyagraha) Paperback – May 29, 2001\n",
      "Rank of this book is  10\n",
      "---------------------------------\n",
      "Title of Book :  My Experiments with Truth: An Autobiography Kindle Edition with rank as  14  is very much dissimilar to below list of books : \n",
      "\n",
      "Non-Violent Resistance (Satyagraha) Paperback – May 29, 2001\n",
      "Rank of this book is  10\n",
      "---------------------------------\n",
      "Title of Book :  Satya Ke Sath Mere Prayog [My Experiment with Truth]: Meri Atmakatha [My Autobiography]   Audible Audiobook – Unabridged with rank as  15  is very much dissimilar to below list of books : \n",
      "\n",
      "The Essential Gandhi: An Anthology of His Writings on His Life, Work, and Ideas Paperback – November 12, 2002\n",
      "Rank of this book is  3\n",
      "Non-Violent Resistance (Satyagraha) Paperback – May 29, 2001\n",
      "Rank of this book is  10\n",
      "Mahatma Gandhi: A Life From Beginning to End Kindle Edition\n",
      "Rank of this book is  16\n",
      "M.K. Gandhi, Attorney at Law: The Man before the Mahatma First Edition\n",
      "Rank of this book is  18\n",
      "---------------------------------\n",
      "Title of Book :  Mahatma Gandhi: A Life From Beginning to End Kindle Edition with rank as  16  is very much dissimilar to below list of books : \n",
      "\n",
      "An Autobiography: The Story of my Experiments with Truth Paperback – September 14, 2017\n",
      "Rank of this book is  6\n",
      "Non-Violent Resistance (Satyagraha) Paperback – May 29, 2001\n",
      "Rank of this book is  10\n",
      "Satya Ke Sath Mere Prayog [My Experiment with Truth]: Meri Atmakatha [My Autobiography]   Audible Audiobook – Unabridged\n",
      "Rank of this book is  15\n",
      "An Autobiography Paperback – Import, 1992\n",
      "Rank of this book is  21\n",
      "---------------------------------\n",
      "Title of Book :  M.K. Gandhi, Attorney at Law: The Man before the Mahatma First Edition with rank as  18  is very much dissimilar to below list of books : \n",
      "\n",
      "Non-Violent Resistance (Satyagraha) Paperback – May 29, 2001\n",
      "Rank of this book is  10\n",
      "Satya Ke Sath Mere Prayog [My Experiment with Truth]: Meri Atmakatha [My Autobiography]   Audible Audiobook – Unabridged\n",
      "Rank of this book is  15\n",
      "An Autobiography Paperback – Import, 1992\n",
      "Rank of this book is  21\n",
      "---------------------------------\n",
      "Title of Book :  Autobiography: The Story of My Experiments with Truth by Mohandas Karamchand (Mahatma) Gandhi (2008-10-01) Hardcover – 1796 with rank as  19  is very much dissimilar to below list of books : \n",
      "\n",
      "Non-Violent Resistance (Satyagraha) Paperback – May 29, 2001\n",
      "Rank of this book is  10\n",
      "Satyana Prayogo Athva Atmakatha (Gujarati Edition) Kindle Edition\n",
      "Rank of this book is  24\n",
      "---------------------------------\n",
      "Title of Book :  The Story of My Experiments with Truth: Autobiography of M K Gandhi with rank as  20  is very much dissimilar to below list of books : \n",
      "\n",
      "Non-Violent Resistance (Satyagraha) Paperback – May 29, 2001\n",
      "Rank of this book is  10\n",
      "Satyana Prayogo Athva Atmakatha (Gujarati Edition) Kindle Edition\n",
      "Rank of this book is  24\n",
      "---------------------------------\n",
      "Title of Book :  An Autobiography Paperback – Import, 1992 with rank as  21  is very much dissimilar to below list of books : \n",
      "\n",
      "Mahatma Gandhi: A Life From Beginning to End Kindle Edition\n",
      "Rank of this book is  16\n",
      "M.K. Gandhi, Attorney at Law: The Man before the Mahatma First Edition\n",
      "Rank of this book is  18\n",
      "Satyana Prayogo Athva Atmakatha (Gujarati Edition) Kindle Edition\n",
      "Rank of this book is  24\n",
      "---------------------------------\n",
      "Title of Book :  M.K. GANDHI, AN AUTOBIOGRAPHY, FOLIO SOCIETY COLLECTOR'S EDITION Hardcover – 2010 with rank as  22  is very much dissimilar to below list of books : \n",
      "\n",
      "Non-Violent Resistance (Satyagraha) Paperback – May 29, 2001\n",
      "Rank of this book is  10\n",
      "---------------------------------\n",
      "Title of Book :  M.k. Gandhi : An Autobiography Paperback – 2015 with rank as  23  is very much dissimilar to below list of books : \n",
      "\n",
      "Satyana Prayogo Athva Atmakatha (Gujarati Edition) Kindle Edition\n",
      "Rank of this book is  24\n",
      "---------------------------------\n",
      "Title of Book :  Satyana Prayogo Athva Atmakatha (Gujarati Edition) Kindle Edition with rank as  24  is very much dissimilar to below list of books : \n",
      "\n",
      "The Essential Gandhi: An Anthology of His Writings on His Life, Work, and Ideas Paperback – November 12, 2002\n",
      "Rank of this book is  3\n",
      "An Autobiography: The Story of my Experiments with Truth Paperback – September 14, 2017\n",
      "Rank of this book is  6\n",
      "M.K. Gandhi an Autobiography:The Story of My Experiments with Truth Hardcover – April 4, 2018\n",
      "Rank of this book is  9\n",
      "Non-Violent Resistance (Satyagraha) Paperback – May 29, 2001\n",
      "Rank of this book is  10\n",
      "M. K. Gandhi An Autobiography or the Story of My Experiments with Truth Paperback – 1997\n",
      "Rank of this book is  11\n",
      "Autobiography: The Story of My Experiments with Truth by Mohandas Karamchand (Mahatma) Gandhi (2008-10-01) Hardcover – 1796\n",
      "Rank of this book is  19\n",
      "The Story of My Experiments with Truth: Autobiography of M K Gandhi\n",
      "Rank of this book is  20\n",
      "An Autobiography Paperback – Import, 1992\n",
      "Rank of this book is  21\n",
      "M.k. Gandhi : An Autobiography Paperback – 2015\n",
      "Rank of this book is  23\n",
      "---------------------------------\n"
     ]
    }
   ],
   "source": [
    "get_min_similar_books(bk_cos_min,booklist_cos_sim,booklist)"
   ]
  },
  {
   "cell_type": "markdown",
   "metadata": {},
   "source": [
    "Smallest cosine similarity minimum value is 0. We have many books with 0.0 similarity value as you can see form the output above.\n",
    "Out of the list there are 2 books that had maximum dissimilarities -\n",
    "1. Non-Violent Resistance (Satyagraha) Paperback – May 29, 2001 , which was ranked \"10\" had dissimilarities with 17 out of the 25 books.\n",
    "2. Satyana Prayogo Athva Atmakatha (Gujarati Edition) Kindle Edition, which was ranked 24 i.e. last of our list had dissimilarities with 9 out of 25 books . The title of this book is in an Indian language \"Gujrati\" which essentially matches the topic of our search if translated in English. It still showed up at #25 , which could mean Amazon utilizes some of language translations for the match. "
   ]
  },
  {
   "cell_type": "markdown",
   "metadata": {},
   "source": [
    "**In general Amazon returns a wide variety of search and so if we look at pairwise text similarity, there are many that do not match in the top 25 books. It is the title, but if you read the titles, except for a couple, most of the books returned by search results intend to support the search string. The couple ones that may seem to be not related to his autobiography can still be called his biographies as they are related to Mahatma Gandhi's life work.**"
   ]
  },
  {
   "cell_type": "markdown",
   "metadata": {},
   "source": [
    "<a id=\"googlesearch\"></a>\n",
    "<a href=\"#top\">Back to Top</a>\n",
    "\n",
    "### Book Search on Google\n",
    "\n",
    "Next we pick up a title of book and search it on Google.  Below is the screenshot of the 1st capsule and 20th capsule ignoring any sponsored links.  "
   ]
  },
  {
   "cell_type": "markdown",
   "metadata": {},
   "source": [
    "<a id=\"googlesearchresults\"></a>\n",
    "<a href=\"#top\">Back to Top</a>\n",
    "#### Search text book on Google\n",
    "\n",
    "**Capsule# 1**\n",
    "\n",
    "<img src=\"./capsule_1.png\">"
   ]
  },
  {
   "cell_type": "markdown",
   "metadata": {},
   "source": [
    "**Capsule# 20**\n",
    "\n",
    "<img src=\"./capsule_20.png\">"
   ]
  },
  {
   "cell_type": "markdown",
   "metadata": {},
   "source": [
    "<a id=\"textsimilarity\"></a>\n",
    "<a href=\"#top\">Back to Top</a>\n",
    "#### Text similarity on search string and search results on google\n",
    "\n",
    "Grabbing the search text ( Title of the book ) and preview text from capsule1 and capsule 20, we will apply cosine similarity function to analyze which search result matched better with the search text."
   ]
  },
  {
   "cell_type": "code",
   "execution_count": 12,
   "metadata": {},
   "outputs": [
    {
     "name": "stdout",
     "output_type": "stream",
     "text": [
      "3\n"
     ]
    }
   ],
   "source": [
    "search_str=[\"An Autobiography or The Story of My Experiments\"]\n",
    "capsule_list=[\"The Story of My Experiments with Truth is the autobiography of Mohandas K. Gandhi, covering his life from early childhood through to 1921. It was written in ...\",\n",
    "       \"An autobiography : the story of my experiments with truth. [Gandhi, Mahatma] -- In his classic autobiography Gandhi recounts the story of his life and how he ...\"]\n",
    "b_list=[s for s in search_str]\n",
    "for c in capsule_list:\n",
    "    b_list.append(c)\n",
    "b_list\n",
    "print(len(b_list))\n",
    "#searchstr_cos_sim=get_cosine_sim_with_str(booklist,search_str)"
   ]
  },
  {
   "cell_type": "code",
   "execution_count": 13,
   "metadata": {},
   "outputs": [],
   "source": [
    "searchstr_cos_sim=get_cosine_sim(b_list)"
   ]
  },
  {
   "cell_type": "code",
   "execution_count": 14,
   "metadata": {},
   "outputs": [
    {
     "name": "stdout",
     "output_type": "stream",
     "text": [
      "type : <class 'numpy.ndarray'>\n",
      "shape : (3, 3)\n"
     ]
    }
   ],
   "source": [
    "searchstr_cos_sim=get_cosine_sim(b_list)\n",
    "print(\"type :\",type(searchstr_cos_sim))\n",
    "print(\"shape :\",searchstr_cos_sim.shape)"
   ]
  },
  {
   "cell_type": "markdown",
   "metadata": {},
   "source": [
    "Our list of strings/document is 3 and cosine similarity function has returned a 3X3 matrix for pairwise cosine similarity. Our search string was at index \"0\", so we will analyze pairwise similarity for index 0."
   ]
  },
  {
   "cell_type": "code",
   "execution_count": 15,
   "metadata": {},
   "outputs": [],
   "source": [
    "searchstr_max,searchstr_min=get_max_min(searchstr_cos_sim)\n",
    "max_match_wt_searchstr=searchstr_max[0]\n",
    "min_match_wt_searchstr=searchstr_min[0]"
   ]
  },
  {
   "cell_type": "code",
   "execution_count": 16,
   "metadata": {},
   "outputs": [
    {
     "name": "stdout",
     "output_type": "stream",
     "text": [
      "Title of Book :  An Autobiography or The Story of My Experiments   is very much similar to Title of the book : \n",
      "An autobiography : the story of my experiments with truth. [Gandhi, Mahatma] -- In his classic autobiography Gandhi recounts the story of his life and how he ...\n",
      "The ranks of the book are  0  and  2\n",
      "---------------------------------\n"
     ]
    }
   ],
   "source": [
    "get_max_similar_books_id(max_match_wt_searchstr, searchstr_cos_sim[0], b_list,0)\n"
   ]
  },
  {
   "cell_type": "code",
   "execution_count": 17,
   "metadata": {},
   "outputs": [
    {
     "name": "stdout",
     "output_type": "stream",
     "text": [
      "Title of Book :  An Autobiography or The Story of My Experiments with rank as  0  is very much dissimilar to below list of books : \n",
      "\n",
      "The Story of My Experiments with Truth is the autobiography of Mohandas K. Gandhi, covering his life from early childhood through to 1921. It was written in ...\n",
      "Rank of this book is  1\n",
      "---------------------------------\n"
     ]
    }
   ],
   "source": [
    "get_min_similar_books_id(min_match_wt_searchstr, searchstr_cos_sim[0], b_list,0)"
   ]
  },
  {
   "cell_type": "code",
   "execution_count": 18,
   "metadata": {},
   "outputs": [
    {
     "name": "stdout",
     "output_type": "stream",
     "text": [
      "maximum similarity 0.639362013091006\n"
     ]
    }
   ],
   "source": [
    "print(\"maximum similarity\", searchstr_cos_sim[0][2])"
   ]
  },
  {
   "cell_type": "markdown",
   "metadata": {},
   "source": [
    "Text in capsule 20 has the highest similarity measure with the search string with the similarity of 63.9%."
   ]
  },
  {
   "cell_type": "markdown",
   "metadata": {},
   "source": [
    "<a id=\"textsimilarityanalysis\"></a>\n",
    "<a href=\"#top\">Back to Top</a>\n",
    "#### Analysis on Resulted Text similarity with search string"
   ]
  },
  {
   "cell_type": "markdown",
   "metadata": {},
   "source": [
    "Same Text similarity function when applied shows Google search seems to use a different algorithm. Out most similar match for the search string is in capsule 20 . So why is that so ?\n",
    "Google uses a series of algorithms to decide on ranks. There are many factors that are looked into and evalauted with different weights.  \n",
    "Besides the meaning of the query and relevance of webpages ,i.e. finding similar search text in the webpage, it also looks for quality of content which is determined by pagerank.This selects pages that demonstrate expertise, authoritativeness and trustworthiness on a given topic.  \n",
    "While this might be the main criteria that may cause the difference in similarity of the returned results, google also looks for any unusable links and returns results based on context, for eg. location or language settings.\n"
   ]
  }
 ],
 "metadata": {
  "kernelspec": {
   "display_name": "Python 3",
   "language": "python",
   "name": "python3"
  },
  "language_info": {
   "codemirror_mode": {
    "name": "ipython",
    "version": 3
   },
   "file_extension": ".py",
   "mimetype": "text/x-python",
   "name": "python",
   "nbconvert_exporter": "python",
   "pygments_lexer": "ipython3",
   "version": "3.7.3"
  }
 },
 "nbformat": 4,
 "nbformat_minor": 2
}
